{
 "cells": [
  {
   "cell_type": "code",
   "execution_count": 1,
   "id": "053da2cc-9885-4a5f-a0f1-cd1fc4469e11",
   "metadata": {},
   "outputs": [
    {
     "name": "stdout",
     "output_type": "stream",
     "text": [
      "Defaulting to user installation because normal site-packages is not writeable\n",
      "Looking in links: /usr/share/pip-wheels\n",
      "Requirement already satisfied: qiskit-aer in ./.local/lib/python3.11/site-packages (0.13.1)\n",
      "Requirement already satisfied: qiskit>=0.44.0 in ./.local/lib/python3.11/site-packages (from qiskit-aer) (0.45.0)\n",
      "Requirement already satisfied: numpy>=1.16.3 in ./.local/lib/python3.11/site-packages (from qiskit-aer) (1.26.1)\n",
      "Requirement already satisfied: scipy>=1.0 in ./.local/lib/python3.11/site-packages (from qiskit-aer) (1.11.3)\n",
      "Requirement already satisfied: psutil>=5 in ./.local/lib/python3.11/site-packages (from qiskit-aer) (5.9.6)\n",
      "Requirement already satisfied: qiskit-terra==0.45.0 in ./.local/lib/python3.11/site-packages (from qiskit>=0.44.0->qiskit-aer) (0.45.0)\n",
      "Requirement already satisfied: rustworkx>=0.13.0 in ./.local/lib/python3.11/site-packages (from qiskit-terra==0.45.0->qiskit>=0.44.0->qiskit-aer) (0.13.2)\n",
      "Requirement already satisfied: ply>=3.10 in ./.local/lib/python3.11/site-packages (from qiskit-terra==0.45.0->qiskit>=0.44.0->qiskit-aer) (3.11)\n",
      "Requirement already satisfied: sympy>=1.3 in ./.local/lib/python3.11/site-packages (from qiskit-terra==0.45.0->qiskit>=0.44.0->qiskit-aer) (1.12)\n",
      "Requirement already satisfied: dill>=0.3 in ./.local/lib/python3.11/site-packages (from qiskit-terra==0.45.0->qiskit>=0.44.0->qiskit-aer) (0.3.7)\n",
      "Requirement already satisfied: python-dateutil>=2.8.0 in ./.local/lib/python3.11/site-packages (from qiskit-terra==0.45.0->qiskit>=0.44.0->qiskit-aer) (2.8.2)\n",
      "Requirement already satisfied: stevedore>=3.0.0 in ./.local/lib/python3.11/site-packages (from qiskit-terra==0.45.0->qiskit>=0.44.0->qiskit-aer) (5.1.0)\n",
      "Requirement already satisfied: symengine<0.10,>=0.9 in ./.local/lib/python3.11/site-packages (from qiskit-terra==0.45.0->qiskit>=0.44.0->qiskit-aer) (0.9.2)\n",
      "Requirement already satisfied: six>=1.5 in ./.local/lib/python3.11/site-packages (from python-dateutil>=2.8.0->qiskit-terra==0.45.0->qiskit>=0.44.0->qiskit-aer) (1.16.0)\n",
      "Requirement already satisfied: pbr!=2.1.0,>=2.0.0 in ./.local/lib/python3.11/site-packages (from stevedore>=3.0.0->qiskit-terra==0.45.0->qiskit>=0.44.0->qiskit-aer) (6.0.0)\n",
      "Requirement already satisfied: mpmath>=0.19 in ./.local/lib/python3.11/site-packages (from sympy>=1.3->qiskit-terra==0.45.0->qiskit>=0.44.0->qiskit-aer) (1.3.0)\n",
      "Note: you may need to restart the kernel to use updated packages.\n"
     ]
    }
   ],
   "source": [
    "pip install qiskit-aer"
   ]
  },
  {
   "cell_type": "code",
   "execution_count": 2,
   "id": "424271a5-0959-463a-b155-3898df8793d1",
   "metadata": {},
   "outputs": [],
   "source": [
    "#Imports"
   ]
  },
  {
   "cell_type": "code",
   "execution_count": 3,
   "id": "cf7c5389-97a9-41d3-bc44-500b40680dcf",
   "metadata": {},
   "outputs": [],
   "source": [
    "from qiskit import QuantumCircuit, execute, Aer, QuantumRegister, ClassicalRegister\n",
    "from qiskit.visualization import plot_histogram"
   ]
  },
  {
   "cell_type": "code",
   "execution_count": 4,
   "id": "351082a9-0a48-44f4-a986-ff19f0207b58",
   "metadata": {},
   "outputs": [],
   "source": [
    "#Rappel de l'enigme: La porte au trésor\n",
    "#Nous nous retrouvons devant deux portes, l'une d'entre elle contient un trésor. Mais nous ne savons pas laquelle.\n",
    "#Devant chaque porte se trouve un gardien, ces derniers savent derrière quelle porte se trouve le trésor.\n",
    "#L'un d'eux ment toujours et à l'inverse, l'autre dit toujours la vérité.\n",
    "#Nous ne savons pas quel gardien ment, ni lequel dit la vérité, mais chaque gardien sait si l'autre ment.\n",
    "#Nous avons pour mission de poser une question à un seul des gardiens et de découvrir derrière quelle porte se\n",
    "#trouve le trésor."
   ]
  },
  {
   "cell_type": "code",
   "execution_count": 5,
   "id": "5a17b8e0-8825-4648-9fdf-64ef7814bddb",
   "metadata": {},
   "outputs": [],
   "source": [
    "#Commençons par dessiner notre circuit de base q0 et q1 représentant les gardiens, nous parlerons de q2 plus tard"
   ]
  },
  {
   "cell_type": "code",
   "execution_count": 6,
   "id": "7a001ae8-5f6c-4412-9a0a-d8e42dd76f08",
   "metadata": {},
   "outputs": [],
   "source": [
    "q = QuantumRegister(3)"
   ]
  },
  {
   "cell_type": "code",
   "execution_count": 7,
   "id": "a8db11f8-3499-4062-b84b-1f95b84992e3",
   "metadata": {},
   "outputs": [],
   "source": [
    "c = ClassicalRegister(1)"
   ]
  },
  {
   "cell_type": "code",
   "execution_count": 8,
   "id": "1360ea1c-4e00-415b-a083-cff9476daedc",
   "metadata": {},
   "outputs": [],
   "source": [
    "cir = QuantumCircuit(q,c)"
   ]
  },
  {
   "cell_type": "code",
   "execution_count": 9,
   "id": "bbbfdd5d-84d4-463c-9656-d4d8bfd2018b",
   "metadata": {},
   "outputs": [
    {
     "name": "stderr",
     "output_type": "stream",
     "text": [
      "/home/9eebf5fd-8a1e-4f6a-b68a-cf559ae366a8/.local/lib/python3.11/site-packages/qiskit/visualization/circuit/matplotlib.py:266: FutureWarning: The default matplotlib drawer scheme will be changed to \"iqp\" in a following release. To silence this warning, specify the current default explicitly as style=\"clifford\", or the new default as style=\"iqp\".\n",
      "  self._style, def_font_ratio = load_style(self._style)\n"
     ]
    },
    {
     "data": {
      "image/png": "[encoded data removed]",
      "text/plain": [
       "<Figure size 180.108x367.889 with 1 Axes>"
      ]
     },
     "execution_count": 9,
     "metadata": {},
     "output_type": "execute_result"
    }
   ],
   "source": [
    "cir.draw('mpl')"
   ]
  },
  {
   "cell_type": "code",
   "execution_count": 10,
   "id": "5b1ee3d3-1781-45f0-8a47-5ff0140813d0",
   "metadata": {},
   "outputs": [],
   "source": [
    "#Dessinons une porte Hadamard sur q0 (représentant la probabilité que le trésor se trouve derrière)\n",
    "#et d'une porte CNOT de q0 à q1 afin de demontrer que les deux gardiens\n",
    "#savent la même chose"
   ]
  },
  {
   "cell_type": "code",
   "execution_count": 11,
   "id": "e6c247b2-ebcd-4128-b973-06c0c08bd844",
   "metadata": {},
   "outputs": [
    {
     "data": {
      "text/plain": [
       "<qiskit.circuit.instructionset.InstructionSet at 0x7f8194f5ba60>"
      ]
     },
     "execution_count": 11,
     "metadata": {},
     "output_type": "execute_result"
    }
   ],
   "source": [
    "cir.h(0)"
   ]
  },
  {
   "cell_type": "raw",
   "id": "a02fa0db-46f1-42ca-b205-f5291ad46e97",
   "metadata": {},
   "source": [
    "A ce stade, le trésor peut se trouver à droite ou à gauche, les situations sont superposées"
   ]
  },
  {
   "cell_type": "code",
   "execution_count": 12,
   "id": "6aca5b65-de69-40e0-a5f4-ad075f6930d5",
   "metadata": {},
   "outputs": [
    {
     "data": {
      "text/plain": [
       "<qiskit.circuit.instructionset.InstructionSet at 0x7f8194f5bdf0>"
      ]
     },
     "execution_count": 12,
     "metadata": {},
     "output_type": "execute_result"
    }
   ],
   "source": [
    "cir.cx(0,1)"
   ]
  },
  {
   "cell_type": "raw",
   "id": "0ab76dc6-fde5-46be-b08e-d1b0a2ba310c",
   "metadata": {},
   "source": [
    "Cette porte correspont au début du qubit du mensonge"
   ]
  },
  {
   "cell_type": "code",
   "execution_count": 13,
   "id": "ca8894ea-ff91-4c3f-bce8-8a66754e204a",
   "metadata": {},
   "outputs": [
    {
     "data": {
      "text/plain": [
       "<qiskit.circuit.instructionset.InstructionSet at 0x7f8194f58100>"
      ]
     },
     "execution_count": 13,
     "metadata": {},
     "output_type": "execute_result"
    }
   ],
   "source": [
    "cir.h(2)"
   ]
  },
  {
   "cell_type": "raw",
   "id": "5b9113ad-355d-44be-b12a-d1deeacb5979",
   "metadata": {},
   "source": [
    "Ici nous inversons la réponse du gardien de gauche avec cette ligne du mensonge si c'était lui qui venait à mentir"
   ]
  },
  {
   "cell_type": "code",
   "execution_count": 14,
   "id": "7dfca309-9d07-488b-9f77-4f8cee62efcb",
   "metadata": {},
   "outputs": [
    {
     "data": {
      "text/plain": [
       "<qiskit.circuit.instructionset.InstructionSet at 0x7f8194f59b10>"
      ]
     },
     "execution_count": 14,
     "metadata": {},
     "output_type": "execute_result"
    }
   ],
   "source": [
    "cir.cx(2,1)"
   ]
  },
  {
   "cell_type": "raw",
   "id": "8e3c35ef-75ae-46f3-81d5-e5f1e51c73d9",
   "metadata": {},
   "source": [
    "Nous plaçons un qubit NOT (X) pour commencer à inverser la réponse du gardien de droite si c'était lui qui mentait"
   ]
  },
  {
   "cell_type": "code",
   "execution_count": 15,
   "id": "368d7abf-4e69-4470-bc41-772cb9bc2f78",
   "metadata": {},
   "outputs": [
    {
     "data": {
      "text/plain": [
       "<qiskit.circuit.instructionset.InstructionSet at 0x7f8194f58190>"
      ]
     },
     "execution_count": 15,
     "metadata": {},
     "output_type": "execute_result"
    }
   ],
   "source": [
    "cir.x(2)"
   ]
  },
  {
   "cell_type": "code",
   "execution_count": 16,
   "id": "b435500d-4987-400b-9a96-303ce436ef41",
   "metadata": {},
   "outputs": [
    {
     "data": {
      "image/png": "[encoded data removed]",
      "text/plain": [
       "<Figure size 472.747x367.889 with 1 Axes>"
      ]
     },
     "execution_count": 16,
     "metadata": {},
     "output_type": "execute_result"
    }
   ],
   "source": [
    "cir.draw('mpl')"
   ]
  },
  {
   "cell_type": "code",
   "execution_count": 17,
   "id": "eb0e8242-2f0f-45d8-ab0c-0ae6019a4279",
   "metadata": {},
   "outputs": [
    {
     "data": {
      "text/plain": [
       "<qiskit.circuit.instructionset.InstructionSet at 0x7f8194f5b4f0>"
      ]
     },
     "execution_count": 17,
     "metadata": {},
     "output_type": "execute_result"
    }
   ],
   "source": [
    "cir.cx(2,0)"
   ]
  },
  {
   "cell_type": "code",
   "execution_count": 18,
   "id": "7ec81997-715b-47f1-a313-bb4d2083bfde",
   "metadata": {},
   "outputs": [
    {
     "data": {
      "text/plain": [
       "<qiskit.circuit.instructionset.InstructionSet at 0x7f8194f58700>"
      ]
     },
     "execution_count": 18,
     "metadata": {},
     "output_type": "execute_result"
    }
   ],
   "source": [
    "cir.x(2)"
   ]
  },
  {
   "cell_type": "raw",
   "id": "1c3d8361-3b0f-44fb-9edc-e37d9458b449",
   "metadata": {},
   "source": [
    "On voit ici qu'avec une porte Hadamard que les deux possibilités sont en superposition, la probabilité\n",
    "d'obtenir 0 ou 1 est de 50% pour chaque réponse à la question \"Derrière quelle porte se trouve le trésor ?\"\n",
    "Les deux gardiens auraient donc des réponses opposées.\n",
    "Il y aurait un schéma\n",
    "1001\n",
    "0110\n",
    "0101"
   ]
  },
  {
   "cell_type": "code",
   "execution_count": 19,
   "id": "2e2de8d6-b068-44f8-9bb2-c9e2c2da51c3",
   "metadata": {},
   "outputs": [
    {
     "data": {
      "image/png": "[encoded data removed]",
      "text/plain": [
       "<Figure size 639.969x367.889 with 1 Axes>"
      ]
     },
     "execution_count": 19,
     "metadata": {},
     "output_type": "execute_result"
    }
   ],
   "source": [
    "cir.draw('mpl')"
   ]
  },
  {
   "cell_type": "raw",
   "id": "4bdfac70-807c-4db0-8bdb-55276cf9b2cc",
   "metadata": {},
   "source": [
    "Pour représenter la question \"Quelle porte l'autre gardien me dirait de ne pas prendre ?\", nous appliquons une\n",
    "porte swap pour la partie \"Que me dirait l'autre gardien si ?\""
   ]
  },
  {
   "cell_type": "code",
   "execution_count": 20,
   "id": "236877d7-ddc0-4b25-9313-36f0f6faf088",
   "metadata": {},
   "outputs": [
    {
     "data": {
      "text/plain": [
       "<qiskit.circuit.instructionset.InstructionSet at 0x7f8194fba290>"
      ]
     },
     "execution_count": 20,
     "metadata": {},
     "output_type": "execute_result"
    }
   ],
   "source": [
    "cir.swap(0,1)"
   ]
  },
  {
   "cell_type": "raw",
   "id": "70ac350a-03bf-4892-a732-7ac0f32454ce",
   "metadata": {},
   "source": [
    "Ajoutons des qubits NOT devant les deux gardiens pour \"ne pas\""
   ]
  },
  {
   "cell_type": "code",
   "execution_count": 21,
   "id": "ca8fac54-272e-40a3-a061-51d22b9f1b96",
   "metadata": {},
   "outputs": [
    {
     "data": {
      "text/plain": [
       "<qiskit.circuit.instructionset.InstructionSet at 0x7f8194f59f60>"
      ]
     },
     "execution_count": 21,
     "metadata": {},
     "output_type": "execute_result"
    }
   ],
   "source": [
    "cir.x(0)"
   ]
  },
  {
   "cell_type": "code",
   "execution_count": 22,
   "id": "405cdfe7-6d77-45f7-8f65-ff06405262f7",
   "metadata": {},
   "outputs": [
    {
     "data": {
      "text/plain": [
       "<qiskit.circuit.instructionset.InstructionSet at 0x7f8194f584f0>"
      ]
     },
     "execution_count": 22,
     "metadata": {},
     "output_type": "execute_result"
    }
   ],
   "source": [
    "cir.x(1)"
   ]
  },
  {
   "cell_type": "raw",
   "id": "51786078-7ee9-4418-9705-fef67cfa7064",
   "metadata": {},
   "source": [
    "Réitérons donc la série de portes réponse précédente comme nous savons que l'un des gardien ment sur la réponse de l'autre gardien"
   ]
  },
  {
   "cell_type": "code",
   "execution_count": 23,
   "id": "5f3d1ac1-271c-4210-86dd-1f804f2198f7",
   "metadata": {},
   "outputs": [
    {
     "data": {
      "text/plain": [
       "<qiskit.circuit.instructionset.InstructionSet at 0x7f8194f592a0>"
      ]
     },
     "execution_count": 23,
     "metadata": {},
     "output_type": "execute_result"
    }
   ],
   "source": [
    "cir.cx(2,1)"
   ]
  },
  {
   "cell_type": "code",
   "execution_count": 24,
   "id": "081a64aa-7b32-46bf-bbeb-e475def108cb",
   "metadata": {},
   "outputs": [
    {
     "data": {
      "text/plain": [
       "<qiskit.circuit.instructionset.InstructionSet at 0x7f8194f5ab90>"
      ]
     },
     "execution_count": 24,
     "metadata": {},
     "output_type": "execute_result"
    }
   ],
   "source": [
    "cir.x(2)"
   ]
  },
  {
   "cell_type": "code",
   "execution_count": 25,
   "id": "92d096c7-3dd5-4488-8f8f-b5302b9508c5",
   "metadata": {},
   "outputs": [
    {
     "data": {
      "text/plain": [
       "<qiskit.circuit.instructionset.InstructionSet at 0x7f8194fbba60>"
      ]
     },
     "execution_count": 25,
     "metadata": {},
     "output_type": "execute_result"
    }
   ],
   "source": [
    "cir.cx(2,0)"
   ]
  },
  {
   "cell_type": "code",
   "execution_count": 26,
   "id": "0335ad18-54b4-4816-8893-29b6c570bc0e",
   "metadata": {},
   "outputs": [
    {
     "data": {
      "text/plain": [
       "<qiskit.circuit.instructionset.InstructionSet at 0x7f8194fbba90>"
      ]
     },
     "execution_count": 26,
     "metadata": {},
     "output_type": "execute_result"
    }
   ],
   "source": [
    "cir.x(2)"
   ]
  },
  {
   "cell_type": "code",
   "execution_count": 27,
   "id": "8be65aad-a5d7-44f5-8d28-b28b0ec7722b",
   "metadata": {},
   "outputs": [
    {
     "data": {
      "image/png": "[encoded data removed]",
      "text/plain": [
       "<Figure size 1058.03x367.889 with 1 Axes>"
      ]
     },
     "execution_count": 27,
     "metadata": {},
     "output_type": "execute_result"
    }
   ],
   "source": [
    "cir.draw('mpl')"
   ]
  },
  {
   "cell_type": "code",
   "execution_count": 28,
   "id": "e82de139-3797-4702-bdc0-0b634e8d6d8d",
   "metadata": {},
   "outputs": [],
   "source": [
    "cir.measure_all()"
   ]
  },
  {
   "cell_type": "code",
   "execution_count": 29,
   "id": "a6e0015d-0664-4798-a5bc-c8041b63a79a",
   "metadata": {},
   "outputs": [
    {
     "data": {
      "image/png": "[encoded data removed]",
      "text/plain": [
       "<Figure size 1416.5x451.5 with 1 Axes>"
      ]
     },
     "execution_count": 29,
     "metadata": {},
     "output_type": "execute_result"
    }
   ],
   "source": [
    "cir.draw('mpl')"
   ]
  },
  {
   "cell_type": "code",
   "execution_count": 30,
   "id": "164e831c-734e-4a77-850a-31cdb7d6aacc",
   "metadata": {},
   "outputs": [],
   "source": [
    "simulator = Aer.get_backend('qasm_simulator')\n",
    "result = execute(cir, backend=simulator, shots=1024).result()"
   ]
  },
  {
   "cell_type": "code",
   "execution_count": 31,
   "id": "3ac64fd0-810a-46da-adbe-497fcd1697f5",
   "metadata": {},
   "outputs": [
    {
     "name": "stdout",
     "output_type": "stream",
     "text": [
      "{'111 0': 244, '011 0': 228, '000 0': 276, '100 0': 276}\n"
     ]
    }
   ],
   "source": [
    "counts = result.get_counts(cir)\n",
    "print(counts)"
   ]
  },
  {
   "cell_type": "raw",
   "id": "5a5ebb74-b20f-4f10-b8bf-7110702e6b15",
   "metadata": {},
   "source": [
    "Voici la répartition des probabilités de mesure des quatres situations si on lance le calcul 1024 fois. Pour un calcul, chaque possibilité à 25% de chances de survenir."
   ]
  },
  {
   "cell_type": "code",
   "execution_count": 32,
   "id": "a3206e94-5c3c-4d13-803d-b5e0e034f374",
   "metadata": {},
   "outputs": [
    {
     "data": {
      "image/png": "[encoded data removed]",
      "text/plain": [
       "<Figure size 700x500 with 1 Axes>"
      ]
     },
     "execution_count": 32,
     "metadata": {},
     "output_type": "execute_result"
    }
   ],
   "source": [
    "plot_histogram(counts)"
   ]
  }
 ],
 "metadata": {
  "kernelspec": {
   "display_name": "anaconda-panel-2023.05-py310",
   "language": "python",
   "name": "conda-env-anaconda-panel-2023.05-py310-py"
  },
  "language_info": {
   "codemirror_mode": {
    "name": "ipython",
    "version": 3
   },
   "file_extension": ".py",
   "mimetype": "text/x-python",
   "name": "python",
   "nbconvert_exporter": "python",
   "pygments_lexer": "ipython3",
   "version": "3.11.5"
  }
 },
 "nbformat": 4,
 "nbformat_minor": 5
}
